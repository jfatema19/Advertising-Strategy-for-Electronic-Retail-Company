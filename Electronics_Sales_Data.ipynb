{
 "cells": [
  {
   "cell_type": "markdown",
   "metadata": {},
   "source": [
    "### Electronics Sales Data Analysis"
   ]
  },
  {
   "cell_type": "markdown",
   "metadata": {},
   "source": [
    "In this video we use Python Pandas & Python Matplotlib to analyze and answer business questions about 12 months worth of sales data. The data contains hundreds of thousands of electronics store purchases broken down by month, product type, cost, purchase address, etc. "
   ]
  },
  {
   "cell_type": "code",
   "execution_count": 218,
   "metadata": {},
   "outputs": [],
   "source": [
    "# Import necessary libraries\n",
    "import pandas as pd\n",
    "import os\n"
   ]
  },
  {
   "cell_type": "markdown",
   "metadata": {},
   "source": [
    "#### Merging 12 months of sales data into a single file "
   ]
  },
  {
   "cell_type": "code",
   "execution_count": 219,
   "metadata": {},
   "outputs": [
    {
     "name": "stderr",
     "output_type": "stream",
     "text": [
      "C:\\Users\\uddimoh1\\AppData\\Local\\Continuum\\anaconda3\\lib\\site-packages\\ipykernel_launcher.py:10: FutureWarning: Sorting because non-concatenation axis is not aligned. A future version\n",
      "of pandas will change to not sort by default.\n",
      "\n",
      "To accept the future behavior, pass 'sort=False'.\n",
      "\n",
      "To retain the current behavior and silence the warning, pass 'sort=True'.\n",
      "\n",
      "  # Remove the CWD from sys.path while we load stuff.\n"
     ]
    }
   ],
   "source": [
    "file_path = './Electronics_Sales_Analysis/Pandas-Data-Science-Tasks-master/SalesAnalysis/Sales_Data'\n",
    "# df = pd.read_csv(file_path +'/Sales_April_2019.csv')\n",
    "\n",
    "files = [file for file in os.listdir(file_path) if not file.startswith('.')] # Ignore hidden files\n",
    "\n",
    "all_months_data = pd.DataFrame()\n",
    "\n",
    "for file in files:\n",
    "    df = pd.read_csv(file_path+'/'+file)\n",
    "    all_months_data = pd.concat([all_months_data, df])\n",
    "    \n",
    "all_months_data.to_csv(file_path +'/all_data.csv', index = False)\n"
   ]
  },
  {
   "cell_type": "code",
   "execution_count": 220,
   "metadata": {},
   "outputs": [],
   "source": [
    "# Load the merged data\n",
    "all_data = pd.read_csv(file_path + '/all_data.csv')"
   ]
  },
  {
   "cell_type": "code",
   "execution_count": 221,
   "metadata": {},
   "outputs": [
    {
     "data": {
      "text/html": [
       "<div>\n",
       "<style scoped>\n",
       "    .dataframe tbody tr th:only-of-type {\n",
       "        vertical-align: middle;\n",
       "    }\n",
       "\n",
       "    .dataframe tbody tr th {\n",
       "        vertical-align: top;\n",
       "    }\n",
       "\n",
       "    .dataframe thead th {\n",
       "        text-align: right;\n",
       "    }\n",
       "</style>\n",
       "<table border=\"1\" class=\"dataframe\">\n",
       "  <thead>\n",
       "    <tr style=\"text-align: right;\">\n",
       "      <th></th>\n",
       "      <th>Order Date</th>\n",
       "      <th>Order ID</th>\n",
       "      <th>Price Each</th>\n",
       "      <th>Product</th>\n",
       "      <th>Purchase Address</th>\n",
       "      <th>Quantity Ordered</th>\n",
       "      <th>Unnamed: 0</th>\n",
       "    </tr>\n",
       "  </thead>\n",
       "  <tbody>\n",
       "    <tr>\n",
       "      <td>0</td>\n",
       "      <td>04/19/19 08:46</td>\n",
       "      <td>176558</td>\n",
       "      <td>11.95</td>\n",
       "      <td>USB-C Charging Cable</td>\n",
       "      <td>917 1st St, Dallas, TX 75001</td>\n",
       "      <td>2</td>\n",
       "      <td>0.0</td>\n",
       "    </tr>\n",
       "    <tr>\n",
       "      <td>1</td>\n",
       "      <td>NaN</td>\n",
       "      <td>NaN</td>\n",
       "      <td>NaN</td>\n",
       "      <td>NaN</td>\n",
       "      <td>NaN</td>\n",
       "      <td>NaN</td>\n",
       "      <td>1.0</td>\n",
       "    </tr>\n",
       "    <tr>\n",
       "      <td>2</td>\n",
       "      <td>04/07/19 22:30</td>\n",
       "      <td>176559</td>\n",
       "      <td>99.99</td>\n",
       "      <td>Bose SoundSport Headphones</td>\n",
       "      <td>682 Chestnut St, Boston, MA 02215</td>\n",
       "      <td>1</td>\n",
       "      <td>2.0</td>\n",
       "    </tr>\n",
       "    <tr>\n",
       "      <td>3</td>\n",
       "      <td>04/12/19 14:38</td>\n",
       "      <td>176560</td>\n",
       "      <td>600</td>\n",
       "      <td>Google Phone</td>\n",
       "      <td>669 Spruce St, Los Angeles, CA 90001</td>\n",
       "      <td>1</td>\n",
       "      <td>3.0</td>\n",
       "    </tr>\n",
       "    <tr>\n",
       "      <td>4</td>\n",
       "      <td>04/12/19 14:38</td>\n",
       "      <td>176560</td>\n",
       "      <td>11.99</td>\n",
       "      <td>Wired Headphones</td>\n",
       "      <td>669 Spruce St, Los Angeles, CA 90001</td>\n",
       "      <td>1</td>\n",
       "      <td>4.0</td>\n",
       "    </tr>\n",
       "  </tbody>\n",
       "</table>\n",
       "</div>"
      ],
      "text/plain": [
       "       Order Date Order ID Price Each                     Product  \\\n",
       "0  04/19/19 08:46   176558      11.95        USB-C Charging Cable   \n",
       "1             NaN      NaN        NaN                         NaN   \n",
       "2  04/07/19 22:30   176559      99.99  Bose SoundSport Headphones   \n",
       "3  04/12/19 14:38   176560        600                Google Phone   \n",
       "4  04/12/19 14:38   176560      11.99            Wired Headphones   \n",
       "\n",
       "                       Purchase Address Quantity Ordered  Unnamed: 0  \n",
       "0          917 1st St, Dallas, TX 75001                2         0.0  \n",
       "1                                   NaN              NaN         1.0  \n",
       "2     682 Chestnut St, Boston, MA 02215                1         2.0  \n",
       "3  669 Spruce St, Los Angeles, CA 90001                1         3.0  \n",
       "4  669 Spruce St, Los Angeles, CA 90001                1         4.0  "
      ]
     },
     "execution_count": 221,
     "metadata": {},
     "output_type": "execute_result"
    }
   ],
   "source": [
    "# View the data\n",
    "all_data.head()"
   ]
  },
  {
   "cell_type": "markdown",
   "metadata": {},
   "source": [
    "#### Clean up the data"
   ]
  },
  {
   "cell_type": "code",
   "execution_count": 222,
   "metadata": {},
   "outputs": [
    {
     "data": {
      "text/html": [
       "<div>\n",
       "<style scoped>\n",
       "    .dataframe tbody tr th:only-of-type {\n",
       "        vertical-align: middle;\n",
       "    }\n",
       "\n",
       "    .dataframe tbody tr th {\n",
       "        vertical-align: top;\n",
       "    }\n",
       "\n",
       "    .dataframe thead th {\n",
       "        text-align: right;\n",
       "    }\n",
       "</style>\n",
       "<table border=\"1\" class=\"dataframe\">\n",
       "  <thead>\n",
       "    <tr style=\"text-align: right;\">\n",
       "      <th></th>\n",
       "      <th>Order Date</th>\n",
       "      <th>Order ID</th>\n",
       "      <th>Price Each</th>\n",
       "      <th>Product</th>\n",
       "      <th>Purchase Address</th>\n",
       "      <th>Quantity Ordered</th>\n",
       "    </tr>\n",
       "  </thead>\n",
       "  <tbody>\n",
       "    <tr>\n",
       "      <td>0</td>\n",
       "      <td>04/19/19 08:46</td>\n",
       "      <td>176558</td>\n",
       "      <td>11.95</td>\n",
       "      <td>USB-C Charging Cable</td>\n",
       "      <td>917 1st St, Dallas, TX 75001</td>\n",
       "      <td>2</td>\n",
       "    </tr>\n",
       "    <tr>\n",
       "      <td>1</td>\n",
       "      <td>04/07/19 22:30</td>\n",
       "      <td>176559</td>\n",
       "      <td>99.99</td>\n",
       "      <td>Bose SoundSport Headphones</td>\n",
       "      <td>682 Chestnut St, Boston, MA 02215</td>\n",
       "      <td>1</td>\n",
       "    </tr>\n",
       "    <tr>\n",
       "      <td>2</td>\n",
       "      <td>04/12/19 14:38</td>\n",
       "      <td>176560</td>\n",
       "      <td>600</td>\n",
       "      <td>Google Phone</td>\n",
       "      <td>669 Spruce St, Los Angeles, CA 90001</td>\n",
       "      <td>1</td>\n",
       "    </tr>\n",
       "    <tr>\n",
       "      <td>3</td>\n",
       "      <td>04/12/19 14:38</td>\n",
       "      <td>176560</td>\n",
       "      <td>11.99</td>\n",
       "      <td>Wired Headphones</td>\n",
       "      <td>669 Spruce St, Los Angeles, CA 90001</td>\n",
       "      <td>1</td>\n",
       "    </tr>\n",
       "    <tr>\n",
       "      <td>4</td>\n",
       "      <td>04/30/19 09:27</td>\n",
       "      <td>176561</td>\n",
       "      <td>11.99</td>\n",
       "      <td>Wired Headphones</td>\n",
       "      <td>333 8th St, Los Angeles, CA 90001</td>\n",
       "      <td>1</td>\n",
       "    </tr>\n",
       "  </tbody>\n",
       "</table>\n",
       "</div>"
      ],
      "text/plain": [
       "       Order Date Order ID Price Each                     Product  \\\n",
       "0  04/19/19 08:46   176558      11.95        USB-C Charging Cable   \n",
       "1  04/07/19 22:30   176559      99.99  Bose SoundSport Headphones   \n",
       "2  04/12/19 14:38   176560        600                Google Phone   \n",
       "3  04/12/19 14:38   176560      11.99            Wired Headphones   \n",
       "4  04/30/19 09:27   176561      11.99            Wired Headphones   \n",
       "\n",
       "                       Purchase Address Quantity Ordered  \n",
       "0          917 1st St, Dallas, TX 75001                2  \n",
       "1     682 Chestnut St, Boston, MA 02215                1  \n",
       "2  669 Spruce St, Los Angeles, CA 90001                1  \n",
       "3  669 Spruce St, Los Angeles, CA 90001                1  \n",
       "4     333 8th St, Los Angeles, CA 90001                1  "
      ]
     },
     "execution_count": 222,
     "metadata": {},
     "output_type": "execute_result"
    }
   ],
   "source": [
    "all_data = all_data.drop('Unnamed: 0', axis = 1)\n",
    "all_data = all_data.dropna(axis = 0)\n",
    "all_data = all_data.reset_index(drop = True)\n",
    "all_data.head()"
   ]
  },
  {
   "cell_type": "markdown",
   "metadata": {},
   "source": [
    "#### Find the 'Or' and delete them"
   ]
  },
  {
   "cell_type": "code",
   "execution_count": 223,
   "metadata": {},
   "outputs": [
    {
     "data": {
      "text/html": [
       "<div>\n",
       "<style scoped>\n",
       "    .dataframe tbody tr th:only-of-type {\n",
       "        vertical-align: middle;\n",
       "    }\n",
       "\n",
       "    .dataframe tbody tr th {\n",
       "        vertical-align: top;\n",
       "    }\n",
       "\n",
       "    .dataframe thead th {\n",
       "        text-align: right;\n",
       "    }\n",
       "</style>\n",
       "<table border=\"1\" class=\"dataframe\">\n",
       "  <thead>\n",
       "    <tr style=\"text-align: right;\">\n",
       "      <th></th>\n",
       "      <th>Order Date</th>\n",
       "      <th>Order ID</th>\n",
       "      <th>Price Each</th>\n",
       "      <th>Product</th>\n",
       "      <th>Purchase Address</th>\n",
       "      <th>Quantity Ordered</th>\n",
       "    </tr>\n",
       "  </thead>\n",
       "  <tbody>\n",
       "    <tr>\n",
       "      <td>517</td>\n",
       "      <td>Order Date</td>\n",
       "      <td>Order ID</td>\n",
       "      <td>Price Each</td>\n",
       "      <td>Product</td>\n",
       "      <td>Purchase Address</td>\n",
       "      <td>Quantity Ordered</td>\n",
       "    </tr>\n",
       "    <tr>\n",
       "      <td>1146</td>\n",
       "      <td>Order Date</td>\n",
       "      <td>Order ID</td>\n",
       "      <td>Price Each</td>\n",
       "      <td>Product</td>\n",
       "      <td>Purchase Address</td>\n",
       "      <td>Quantity Ordered</td>\n",
       "    </tr>\n",
       "    <tr>\n",
       "      <td>1152</td>\n",
       "      <td>Order Date</td>\n",
       "      <td>Order ID</td>\n",
       "      <td>Price Each</td>\n",
       "      <td>Product</td>\n",
       "      <td>Purchase Address</td>\n",
       "      <td>Quantity Ordered</td>\n",
       "    </tr>\n",
       "    <tr>\n",
       "      <td>2869</td>\n",
       "      <td>Order Date</td>\n",
       "      <td>Order ID</td>\n",
       "      <td>Price Each</td>\n",
       "      <td>Product</td>\n",
       "      <td>Purchase Address</td>\n",
       "      <td>Quantity Ordered</td>\n",
       "    </tr>\n",
       "    <tr>\n",
       "      <td>2884</td>\n",
       "      <td>Order Date</td>\n",
       "      <td>Order ID</td>\n",
       "      <td>Price Each</td>\n",
       "      <td>Product</td>\n",
       "      <td>Purchase Address</td>\n",
       "      <td>Quantity Ordered</td>\n",
       "    </tr>\n",
       "  </tbody>\n",
       "</table>\n",
       "</div>"
      ],
      "text/plain": [
       "      Order Date  Order ID  Price Each  Product  Purchase Address  \\\n",
       "517   Order Date  Order ID  Price Each  Product  Purchase Address   \n",
       "1146  Order Date  Order ID  Price Each  Product  Purchase Address   \n",
       "1152  Order Date  Order ID  Price Each  Product  Purchase Address   \n",
       "2869  Order Date  Order ID  Price Each  Product  Purchase Address   \n",
       "2884  Order Date  Order ID  Price Each  Product  Purchase Address   \n",
       "\n",
       "      Quantity Ordered  \n",
       "517   Quantity Ordered  \n",
       "1146  Quantity Ordered  \n",
       "1152  Quantity Ordered  \n",
       "2869  Quantity Ordered  \n",
       "2884  Quantity Ordered  "
      ]
     },
     "execution_count": 223,
     "metadata": {},
     "output_type": "execute_result"
    }
   ],
   "source": [
    "temp_df = all_data[all_data['Order Date'].str[0:2] == 'Or']\n",
    "temp_df.head()"
   ]
  },
  {
   "cell_type": "code",
   "execution_count": 224,
   "metadata": {},
   "outputs": [],
   "source": [
    "# Create a month column with two digits\n",
    "all_data = all_data[all_data['Order Date'].str[0:2]!='Or']"
   ]
  },
  {
   "cell_type": "code",
   "execution_count": 225,
   "metadata": {},
   "outputs": [
    {
     "data": {
      "text/html": [
       "<div>\n",
       "<style scoped>\n",
       "    .dataframe tbody tr th:only-of-type {\n",
       "        vertical-align: middle;\n",
       "    }\n",
       "\n",
       "    .dataframe tbody tr th {\n",
       "        vertical-align: top;\n",
       "    }\n",
       "\n",
       "    .dataframe thead th {\n",
       "        text-align: right;\n",
       "    }\n",
       "</style>\n",
       "<table border=\"1\" class=\"dataframe\">\n",
       "  <thead>\n",
       "    <tr style=\"text-align: right;\">\n",
       "      <th></th>\n",
       "      <th>Order Date</th>\n",
       "      <th>Order ID</th>\n",
       "      <th>Price Each</th>\n",
       "      <th>Product</th>\n",
       "      <th>Purchase Address</th>\n",
       "      <th>Quantity Ordered</th>\n",
       "      <th>Month</th>\n",
       "    </tr>\n",
       "  </thead>\n",
       "  <tbody>\n",
       "    <tr>\n",
       "      <td>0</td>\n",
       "      <td>04/19/19 08:46</td>\n",
       "      <td>176558</td>\n",
       "      <td>11.95</td>\n",
       "      <td>USB-C Charging Cable</td>\n",
       "      <td>917 1st St, Dallas, TX 75001</td>\n",
       "      <td>2</td>\n",
       "      <td>4</td>\n",
       "    </tr>\n",
       "    <tr>\n",
       "      <td>1</td>\n",
       "      <td>04/07/19 22:30</td>\n",
       "      <td>176559</td>\n",
       "      <td>99.99</td>\n",
       "      <td>Bose SoundSport Headphones</td>\n",
       "      <td>682 Chestnut St, Boston, MA 02215</td>\n",
       "      <td>1</td>\n",
       "      <td>4</td>\n",
       "    </tr>\n",
       "    <tr>\n",
       "      <td>2</td>\n",
       "      <td>04/12/19 14:38</td>\n",
       "      <td>176560</td>\n",
       "      <td>600</td>\n",
       "      <td>Google Phone</td>\n",
       "      <td>669 Spruce St, Los Angeles, CA 90001</td>\n",
       "      <td>1</td>\n",
       "      <td>4</td>\n",
       "    </tr>\n",
       "    <tr>\n",
       "      <td>3</td>\n",
       "      <td>04/12/19 14:38</td>\n",
       "      <td>176560</td>\n",
       "      <td>11.99</td>\n",
       "      <td>Wired Headphones</td>\n",
       "      <td>669 Spruce St, Los Angeles, CA 90001</td>\n",
       "      <td>1</td>\n",
       "      <td>4</td>\n",
       "    </tr>\n",
       "    <tr>\n",
       "      <td>4</td>\n",
       "      <td>04/30/19 09:27</td>\n",
       "      <td>176561</td>\n",
       "      <td>11.99</td>\n",
       "      <td>Wired Headphones</td>\n",
       "      <td>333 8th St, Los Angeles, CA 90001</td>\n",
       "      <td>1</td>\n",
       "      <td>4</td>\n",
       "    </tr>\n",
       "  </tbody>\n",
       "</table>\n",
       "</div>"
      ],
      "text/plain": [
       "       Order Date Order ID Price Each                     Product  \\\n",
       "0  04/19/19 08:46   176558      11.95        USB-C Charging Cable   \n",
       "1  04/07/19 22:30   176559      99.99  Bose SoundSport Headphones   \n",
       "2  04/12/19 14:38   176560        600                Google Phone   \n",
       "3  04/12/19 14:38   176560      11.99            Wired Headphones   \n",
       "4  04/30/19 09:27   176561      11.99            Wired Headphones   \n",
       "\n",
       "                       Purchase Address Quantity Ordered  Month  \n",
       "0          917 1st St, Dallas, TX 75001                2      4  \n",
       "1     682 Chestnut St, Boston, MA 02215                1      4  \n",
       "2  669 Spruce St, Los Angeles, CA 90001                1      4  \n",
       "3  669 Spruce St, Los Angeles, CA 90001                1      4  \n",
       "4     333 8th St, Los Angeles, CA 90001                1      4  "
      ]
     },
     "execution_count": 225,
     "metadata": {},
     "output_type": "execute_result"
    }
   ],
   "source": [
    "# Convert the month data into numeric values\n",
    "all_data['Month'] = all_data['Order Date'].str[0:2]\n",
    "all_data['Month'] = all_data['Month'].astype('int32')\n",
    "all_data.head()"
   ]
  },
  {
   "cell_type": "markdown",
   "metadata": {},
   "source": [
    "### Convert columns to numeric data types"
   ]
  },
  {
   "cell_type": "code",
   "execution_count": 226,
   "metadata": {},
   "outputs": [],
   "source": [
    "all_data['Quantity Ordered'] = pd.to_numeric(all_data['Quantity Ordered'])\n",
    "all_data['Price Each'] = pd.to_numeric(all_data['Price Each'])"
   ]
  },
  {
   "cell_type": "markdown",
   "metadata": {},
   "source": [
    "#### Add a sales column"
   ]
  },
  {
   "cell_type": "code",
   "execution_count": 227,
   "metadata": {},
   "outputs": [],
   "source": [
    "all_data['Sales'] = all_data['Price Each'] * all_data['Quantity Ordered']"
   ]
  },
  {
   "cell_type": "code",
   "execution_count": 228,
   "metadata": {},
   "outputs": [
    {
     "data": {
      "text/html": [
       "<div>\n",
       "<style scoped>\n",
       "    .dataframe tbody tr th:only-of-type {\n",
       "        vertical-align: middle;\n",
       "    }\n",
       "\n",
       "    .dataframe tbody tr th {\n",
       "        vertical-align: top;\n",
       "    }\n",
       "\n",
       "    .dataframe thead th {\n",
       "        text-align: right;\n",
       "    }\n",
       "</style>\n",
       "<table border=\"1\" class=\"dataframe\">\n",
       "  <thead>\n",
       "    <tr style=\"text-align: right;\">\n",
       "      <th></th>\n",
       "      <th>Order Date</th>\n",
       "      <th>Order ID</th>\n",
       "      <th>Price Each</th>\n",
       "      <th>Product</th>\n",
       "      <th>Purchase Address</th>\n",
       "      <th>Quantity Ordered</th>\n",
       "      <th>Month</th>\n",
       "      <th>Sales</th>\n",
       "    </tr>\n",
       "  </thead>\n",
       "  <tbody>\n",
       "    <tr>\n",
       "      <td>0</td>\n",
       "      <td>04/19/19 08:46</td>\n",
       "      <td>176558</td>\n",
       "      <td>11.95</td>\n",
       "      <td>USB-C Charging Cable</td>\n",
       "      <td>917 1st St, Dallas, TX 75001</td>\n",
       "      <td>2</td>\n",
       "      <td>4</td>\n",
       "      <td>23.90</td>\n",
       "    </tr>\n",
       "    <tr>\n",
       "      <td>1</td>\n",
       "      <td>04/07/19 22:30</td>\n",
       "      <td>176559</td>\n",
       "      <td>99.99</td>\n",
       "      <td>Bose SoundSport Headphones</td>\n",
       "      <td>682 Chestnut St, Boston, MA 02215</td>\n",
       "      <td>1</td>\n",
       "      <td>4</td>\n",
       "      <td>99.99</td>\n",
       "    </tr>\n",
       "    <tr>\n",
       "      <td>2</td>\n",
       "      <td>04/12/19 14:38</td>\n",
       "      <td>176560</td>\n",
       "      <td>600.00</td>\n",
       "      <td>Google Phone</td>\n",
       "      <td>669 Spruce St, Los Angeles, CA 90001</td>\n",
       "      <td>1</td>\n",
       "      <td>4</td>\n",
       "      <td>600.00</td>\n",
       "    </tr>\n",
       "    <tr>\n",
       "      <td>3</td>\n",
       "      <td>04/12/19 14:38</td>\n",
       "      <td>176560</td>\n",
       "      <td>11.99</td>\n",
       "      <td>Wired Headphones</td>\n",
       "      <td>669 Spruce St, Los Angeles, CA 90001</td>\n",
       "      <td>1</td>\n",
       "      <td>4</td>\n",
       "      <td>11.99</td>\n",
       "    </tr>\n",
       "    <tr>\n",
       "      <td>4</td>\n",
       "      <td>04/30/19 09:27</td>\n",
       "      <td>176561</td>\n",
       "      <td>11.99</td>\n",
       "      <td>Wired Headphones</td>\n",
       "      <td>333 8th St, Los Angeles, CA 90001</td>\n",
       "      <td>1</td>\n",
       "      <td>4</td>\n",
       "      <td>11.99</td>\n",
       "    </tr>\n",
       "  </tbody>\n",
       "</table>\n",
       "</div>"
      ],
      "text/plain": [
       "       Order Date Order ID  Price Each                     Product  \\\n",
       "0  04/19/19 08:46   176558       11.95        USB-C Charging Cable   \n",
       "1  04/07/19 22:30   176559       99.99  Bose SoundSport Headphones   \n",
       "2  04/12/19 14:38   176560      600.00                Google Phone   \n",
       "3  04/12/19 14:38   176560       11.99            Wired Headphones   \n",
       "4  04/30/19 09:27   176561       11.99            Wired Headphones   \n",
       "\n",
       "                       Purchase Address  Quantity Ordered  Month   Sales  \n",
       "0          917 1st St, Dallas, TX 75001                 2      4   23.90  \n",
       "1     682 Chestnut St, Boston, MA 02215                 1      4   99.99  \n",
       "2  669 Spruce St, Los Angeles, CA 90001                 1      4  600.00  \n",
       "3  669 Spruce St, Los Angeles, CA 90001                 1      4   11.99  \n",
       "4     333 8th St, Los Angeles, CA 90001                 1      4   11.99  "
      ]
     },
     "execution_count": 228,
     "metadata": {},
     "output_type": "execute_result"
    }
   ],
   "source": [
    "all_data.head()"
   ]
  },
  {
   "cell_type": "markdown",
   "metadata": {},
   "source": [
    "#### Best month for sales and how much was earned in that month"
   ]
  },
  {
   "cell_type": "code",
   "execution_count": 229,
   "metadata": {},
   "outputs": [],
   "source": [
    "results = all_data.groupby('Month').sum()"
   ]
  },
  {
   "cell_type": "code",
   "execution_count": 230,
   "metadata": {},
   "outputs": [
    {
     "data": {
      "image/png": "[encoded data removed]",
      "text/plain": [
       "<Figure size 432x288 with 1 Axes>"
      ]
     },
     "metadata": {
      "needs_background": "light"
     },
     "output_type": "display_data"
    }
   ],
   "source": [
    "# Let's visualize\n",
    "import matplotlib.pyplot as plt\n",
    "months = range(1, 13)\n",
    "plt.bar(months, results['Sales'] )\n",
    "plt.xticks(months)\n",
    "plt.ylabel('Sales in USD ($)')\n",
    "plt.xlabel('Months')\n",
    "plt.title('Sales over the Months of the Year')\n",
    "plt.show()"
   ]
  },
  {
   "cell_type": "markdown",
   "metadata": {},
   "source": [
    "#### What US city has the hgihest number of sales"
   ]
  },
  {
   "cell_type": "markdown",
   "metadata": {},
   "source": [
    "#### Add a City / State column"
   ]
  },
  {
   "cell_type": "code",
   "execution_count": 240,
   "metadata": {},
   "outputs": [],
   "source": [
    "# Let's use apply()\n",
    "# We could perform this thru a function\n",
    "def get_city(address):\n",
    "    return address.split(',')[1]\n",
    "\n",
    "def get_state(address):\n",
    "    return address.split(',')[2].split(' ')[1]\n",
    "\n",
    "# all_data = all_data.drop('City', axis = 1, inplace = True)\n",
    "all_data['City / State'] = all_data['Purchase Address'].apply(lambda x: get_city(x) + ',' + ' ' + get_state(x))\n",
    "# Directly w/o a function\n",
    "# all_data['City'] = all_data['Purchase Address'].apply(lambda x: x.split(',')[1]) "
   ]
  },
  {
   "cell_type": "code",
   "execution_count": 241,
   "metadata": {},
   "outputs": [
    {
     "data": {
      "text/html": [
       "<div>\n",
       "<style scoped>\n",
       "    .dataframe tbody tr th:only-of-type {\n",
       "        vertical-align: middle;\n",
       "    }\n",
       "\n",
       "    .dataframe tbody tr th {\n",
       "        vertical-align: top;\n",
       "    }\n",
       "\n",
       "    .dataframe thead th {\n",
       "        text-align: right;\n",
       "    }\n",
       "</style>\n",
       "<table border=\"1\" class=\"dataframe\">\n",
       "  <thead>\n",
       "    <tr style=\"text-align: right;\">\n",
       "      <th></th>\n",
       "      <th>Order Date</th>\n",
       "      <th>Order ID</th>\n",
       "      <th>Price Each</th>\n",
       "      <th>Product</th>\n",
       "      <th>Purchase Address</th>\n",
       "      <th>Quantity Ordered</th>\n",
       "      <th>Month</th>\n",
       "      <th>Sales</th>\n",
       "      <th>City / State</th>\n",
       "    </tr>\n",
       "  </thead>\n",
       "  <tbody>\n",
       "    <tr>\n",
       "      <td>0</td>\n",
       "      <td>04/19/19 08:46</td>\n",
       "      <td>176558</td>\n",
       "      <td>11.95</td>\n",
       "      <td>USB-C Charging Cable</td>\n",
       "      <td>917 1st St, Dallas, TX 75001</td>\n",
       "      <td>2</td>\n",
       "      <td>4</td>\n",
       "      <td>23.90</td>\n",
       "      <td>Dallas, TX</td>\n",
       "    </tr>\n",
       "    <tr>\n",
       "      <td>1</td>\n",
       "      <td>04/07/19 22:30</td>\n",
       "      <td>176559</td>\n",
       "      <td>99.99</td>\n",
       "      <td>Bose SoundSport Headphones</td>\n",
       "      <td>682 Chestnut St, Boston, MA 02215</td>\n",
       "      <td>1</td>\n",
       "      <td>4</td>\n",
       "      <td>99.99</td>\n",
       "      <td>Boston, MA</td>\n",
       "    </tr>\n",
       "    <tr>\n",
       "      <td>2</td>\n",
       "      <td>04/12/19 14:38</td>\n",
       "      <td>176560</td>\n",
       "      <td>600.00</td>\n",
       "      <td>Google Phone</td>\n",
       "      <td>669 Spruce St, Los Angeles, CA 90001</td>\n",
       "      <td>1</td>\n",
       "      <td>4</td>\n",
       "      <td>600.00</td>\n",
       "      <td>Los Angeles, CA</td>\n",
       "    </tr>\n",
       "    <tr>\n",
       "      <td>3</td>\n",
       "      <td>04/12/19 14:38</td>\n",
       "      <td>176560</td>\n",
       "      <td>11.99</td>\n",
       "      <td>Wired Headphones</td>\n",
       "      <td>669 Spruce St, Los Angeles, CA 90001</td>\n",
       "      <td>1</td>\n",
       "      <td>4</td>\n",
       "      <td>11.99</td>\n",
       "      <td>Los Angeles, CA</td>\n",
       "    </tr>\n",
       "    <tr>\n",
       "      <td>4</td>\n",
       "      <td>04/30/19 09:27</td>\n",
       "      <td>176561</td>\n",
       "      <td>11.99</td>\n",
       "      <td>Wired Headphones</td>\n",
       "      <td>333 8th St, Los Angeles, CA 90001</td>\n",
       "      <td>1</td>\n",
       "      <td>4</td>\n",
       "      <td>11.99</td>\n",
       "      <td>Los Angeles, CA</td>\n",
       "    </tr>\n",
       "  </tbody>\n",
       "</table>\n",
       "</div>"
      ],
      "text/plain": [
       "       Order Date Order ID  Price Each                     Product  \\\n",
       "0  04/19/19 08:46   176558       11.95        USB-C Charging Cable   \n",
       "1  04/07/19 22:30   176559       99.99  Bose SoundSport Headphones   \n",
       "2  04/12/19 14:38   176560      600.00                Google Phone   \n",
       "3  04/12/19 14:38   176560       11.99            Wired Headphones   \n",
       "4  04/30/19 09:27   176561       11.99            Wired Headphones   \n",
       "\n",
       "                       Purchase Address  Quantity Ordered  Month   Sales  \\\n",
       "0          917 1st St, Dallas, TX 75001                 2      4   23.90   \n",
       "1     682 Chestnut St, Boston, MA 02215                 1      4   99.99   \n",
       "2  669 Spruce St, Los Angeles, CA 90001                 1      4  600.00   \n",
       "3  669 Spruce St, Los Angeles, CA 90001                 1      4   11.99   \n",
       "4     333 8th St, Los Angeles, CA 90001                 1      4   11.99   \n",
       "\n",
       "       City / State  \n",
       "0        Dallas, TX  \n",
       "1        Boston, MA  \n",
       "2   Los Angeles, CA  \n",
       "3   Los Angeles, CA  \n",
       "4   Los Angeles, CA  "
      ]
     },
     "execution_count": 241,
     "metadata": {},
     "output_type": "execute_result"
    }
   ],
   "source": [
    "all_data.head()"
   ]
  },
  {
   "cell_type": "code",
   "execution_count": 277,
   "metadata": {},
   "outputs": [],
   "source": [
    "results_US_Cities = all_data.groupby('City / State').sum()"
   ]
  },
  {
   "cell_type": "code",
   "execution_count": 278,
   "metadata": {},
   "outputs": [
    {
     "data": {
      "image/png": "[encoded data removed]",
      "text/plain": [
       "<Figure size 432x288 with 1 Axes>"
      ]
     },
     "metadata": {
      "needs_background": "light"
     },
     "output_type": "display_data"
    }
   ],
   "source": [
    "# Let's visualize\n",
    "import matplotlib.pyplot as plt\n",
    "cities = [city for city, df in all_data.groupby('City / State')]\n",
    "plt.bar(cities, results_US_Cities['Sales'] )\n",
    "plt.xticks(cities, rotation = 'vertical', fontsize = 8)\n",
    "plt.ylabel('Sales in USD ($)', fontsize = 8)\n",
    "plt.xlabel('US Cities')\n",
    "plt.title('Sales for Cities of the Year')\n",
    "plt.show()"
   ]
  },
  {
   "cell_type": "markdown",
   "metadata": {},
   "source": [
    "### What time should we display advertisements to maximize likelihood of customer's buying products"
   ]
  },
  {
   "cell_type": "code",
   "execution_count": 253,
   "metadata": {},
   "outputs": [
    {
     "data": {
      "text/html": [
       "<div>\n",
       "<style scoped>\n",
       "    .dataframe tbody tr th:only-of-type {\n",
       "        vertical-align: middle;\n",
       "    }\n",
       "\n",
       "    .dataframe tbody tr th {\n",
       "        vertical-align: top;\n",
       "    }\n",
       "\n",
       "    .dataframe thead th {\n",
       "        text-align: right;\n",
       "    }\n",
       "</style>\n",
       "<table border=\"1\" class=\"dataframe\">\n",
       "  <thead>\n",
       "    <tr style=\"text-align: right;\">\n",
       "      <th></th>\n",
       "      <th>Order Date</th>\n",
       "      <th>Order ID</th>\n",
       "      <th>Price Each</th>\n",
       "      <th>Product</th>\n",
       "      <th>Purchase Address</th>\n",
       "      <th>Quantity Ordered</th>\n",
       "      <th>Month</th>\n",
       "      <th>Sales</th>\n",
       "      <th>City / State</th>\n",
       "    </tr>\n",
       "  </thead>\n",
       "  <tbody>\n",
       "    <tr>\n",
       "      <td>0</td>\n",
       "      <td>04/19/19 08:46</td>\n",
       "      <td>176558</td>\n",
       "      <td>11.95</td>\n",
       "      <td>USB-C Charging Cable</td>\n",
       "      <td>917 1st St, Dallas, TX 75001</td>\n",
       "      <td>2</td>\n",
       "      <td>4</td>\n",
       "      <td>23.90</td>\n",
       "      <td>Dallas, TX</td>\n",
       "    </tr>\n",
       "    <tr>\n",
       "      <td>1</td>\n",
       "      <td>04/07/19 22:30</td>\n",
       "      <td>176559</td>\n",
       "      <td>99.99</td>\n",
       "      <td>Bose SoundSport Headphones</td>\n",
       "      <td>682 Chestnut St, Boston, MA 02215</td>\n",
       "      <td>1</td>\n",
       "      <td>4</td>\n",
       "      <td>99.99</td>\n",
       "      <td>Boston, MA</td>\n",
       "    </tr>\n",
       "    <tr>\n",
       "      <td>2</td>\n",
       "      <td>04/12/19 14:38</td>\n",
       "      <td>176560</td>\n",
       "      <td>600.00</td>\n",
       "      <td>Google Phone</td>\n",
       "      <td>669 Spruce St, Los Angeles, CA 90001</td>\n",
       "      <td>1</td>\n",
       "      <td>4</td>\n",
       "      <td>600.00</td>\n",
       "      <td>Los Angeles, CA</td>\n",
       "    </tr>\n",
       "    <tr>\n",
       "      <td>3</td>\n",
       "      <td>04/12/19 14:38</td>\n",
       "      <td>176560</td>\n",
       "      <td>11.99</td>\n",
       "      <td>Wired Headphones</td>\n",
       "      <td>669 Spruce St, Los Angeles, CA 90001</td>\n",
       "      <td>1</td>\n",
       "      <td>4</td>\n",
       "      <td>11.99</td>\n",
       "      <td>Los Angeles, CA</td>\n",
       "    </tr>\n",
       "    <tr>\n",
       "      <td>4</td>\n",
       "      <td>04/30/19 09:27</td>\n",
       "      <td>176561</td>\n",
       "      <td>11.99</td>\n",
       "      <td>Wired Headphones</td>\n",
       "      <td>333 8th St, Los Angeles, CA 90001</td>\n",
       "      <td>1</td>\n",
       "      <td>4</td>\n",
       "      <td>11.99</td>\n",
       "      <td>Los Angeles, CA</td>\n",
       "    </tr>\n",
       "  </tbody>\n",
       "</table>\n",
       "</div>"
      ],
      "text/plain": [
       "       Order Date Order ID  Price Each                     Product  \\\n",
       "0  04/19/19 08:46   176558       11.95        USB-C Charging Cable   \n",
       "1  04/07/19 22:30   176559       99.99  Bose SoundSport Headphones   \n",
       "2  04/12/19 14:38   176560      600.00                Google Phone   \n",
       "3  04/12/19 14:38   176560       11.99            Wired Headphones   \n",
       "4  04/30/19 09:27   176561       11.99            Wired Headphones   \n",
       "\n",
       "                       Purchase Address  Quantity Ordered  Month   Sales  \\\n",
       "0          917 1st St, Dallas, TX 75001                 2      4   23.90   \n",
       "1     682 Chestnut St, Boston, MA 02215                 1      4   99.99   \n",
       "2  669 Spruce St, Los Angeles, CA 90001                 1      4  600.00   \n",
       "3  669 Spruce St, Los Angeles, CA 90001                 1      4   11.99   \n",
       "4     333 8th St, Los Angeles, CA 90001                 1      4   11.99   \n",
       "\n",
       "       City / State  \n",
       "0        Dallas, TX  \n",
       "1        Boston, MA  \n",
       "2   Los Angeles, CA  \n",
       "3   Los Angeles, CA  \n",
       "4   Los Angeles, CA  "
      ]
     },
     "execution_count": 253,
     "metadata": {},
     "output_type": "execute_result"
    }
   ],
   "source": [
    "all_data.head()"
   ]
  },
  {
   "cell_type": "code",
   "execution_count": 254,
   "metadata": {},
   "outputs": [],
   "source": [
    "# Convert Order Date to Date Time column\n",
    "all_data['Order Date'] = pd.to_datetime(all_data['Order Date'])"
   ]
  },
  {
   "cell_type": "code",
   "execution_count": 264,
   "metadata": {},
   "outputs": [],
   "source": [
    "all_data['Hour'] = all_data['Order Date'].dt.hour\n",
    "all_data['Minute'] = all_data['Order Date'].dt.minute\n",
    "all_data['Count'] = 1"
   ]
  },
  {
   "cell_type": "code",
   "execution_count": 265,
   "metadata": {},
   "outputs": [
    {
     "data": {
      "text/html": [
       "<div>\n",
       "<style scoped>\n",
       "    .dataframe tbody tr th:only-of-type {\n",
       "        vertical-align: middle;\n",
       "    }\n",
       "\n",
       "    .dataframe tbody tr th {\n",
       "        vertical-align: top;\n",
       "    }\n",
       "\n",
       "    .dataframe thead th {\n",
       "        text-align: right;\n",
       "    }\n",
       "</style>\n",
       "<table border=\"1\" class=\"dataframe\">\n",
       "  <thead>\n",
       "    <tr style=\"text-align: right;\">\n",
       "      <th></th>\n",
       "      <th>Order Date</th>\n",
       "      <th>Order ID</th>\n",
       "      <th>Price Each</th>\n",
       "      <th>Product</th>\n",
       "      <th>Purchase Address</th>\n",
       "      <th>Quantity Ordered</th>\n",
       "      <th>Month</th>\n",
       "      <th>Sales</th>\n",
       "      <th>City / State</th>\n",
       "      <th>Hour</th>\n",
       "      <th>Minute</th>\n",
       "      <th>Count</th>\n",
       "    </tr>\n",
       "  </thead>\n",
       "  <tbody>\n",
       "    <tr>\n",
       "      <td>0</td>\n",
       "      <td>2019-04-19 08:46:00</td>\n",
       "      <td>176558</td>\n",
       "      <td>11.95</td>\n",
       "      <td>USB-C Charging Cable</td>\n",
       "      <td>917 1st St, Dallas, TX 75001</td>\n",
       "      <td>2</td>\n",
       "      <td>4</td>\n",
       "      <td>23.90</td>\n",
       "      <td>Dallas, TX</td>\n",
       "      <td>8</td>\n",
       "      <td>46</td>\n",
       "      <td>1</td>\n",
       "    </tr>\n",
       "    <tr>\n",
       "      <td>1</td>\n",
       "      <td>2019-04-07 22:30:00</td>\n",
       "      <td>176559</td>\n",
       "      <td>99.99</td>\n",
       "      <td>Bose SoundSport Headphones</td>\n",
       "      <td>682 Chestnut St, Boston, MA 02215</td>\n",
       "      <td>1</td>\n",
       "      <td>4</td>\n",
       "      <td>99.99</td>\n",
       "      <td>Boston, MA</td>\n",
       "      <td>22</td>\n",
       "      <td>30</td>\n",
       "      <td>1</td>\n",
       "    </tr>\n",
       "    <tr>\n",
       "      <td>2</td>\n",
       "      <td>2019-04-12 14:38:00</td>\n",
       "      <td>176560</td>\n",
       "      <td>600.00</td>\n",
       "      <td>Google Phone</td>\n",
       "      <td>669 Spruce St, Los Angeles, CA 90001</td>\n",
       "      <td>1</td>\n",
       "      <td>4</td>\n",
       "      <td>600.00</td>\n",
       "      <td>Los Angeles, CA</td>\n",
       "      <td>14</td>\n",
       "      <td>38</td>\n",
       "      <td>1</td>\n",
       "    </tr>\n",
       "    <tr>\n",
       "      <td>3</td>\n",
       "      <td>2019-04-12 14:38:00</td>\n",
       "      <td>176560</td>\n",
       "      <td>11.99</td>\n",
       "      <td>Wired Headphones</td>\n",
       "      <td>669 Spruce St, Los Angeles, CA 90001</td>\n",
       "      <td>1</td>\n",
       "      <td>4</td>\n",
       "      <td>11.99</td>\n",
       "      <td>Los Angeles, CA</td>\n",
       "      <td>14</td>\n",
       "      <td>38</td>\n",
       "      <td>1</td>\n",
       "    </tr>\n",
       "    <tr>\n",
       "      <td>4</td>\n",
       "      <td>2019-04-30 09:27:00</td>\n",
       "      <td>176561</td>\n",
       "      <td>11.99</td>\n",
       "      <td>Wired Headphones</td>\n",
       "      <td>333 8th St, Los Angeles, CA 90001</td>\n",
       "      <td>1</td>\n",
       "      <td>4</td>\n",
       "      <td>11.99</td>\n",
       "      <td>Los Angeles, CA</td>\n",
       "      <td>9</td>\n",
       "      <td>27</td>\n",
       "      <td>1</td>\n",
       "    </tr>\n",
       "  </tbody>\n",
       "</table>\n",
       "</div>"
      ],
      "text/plain": [
       "           Order Date Order ID  Price Each                     Product  \\\n",
       "0 2019-04-19 08:46:00   176558       11.95        USB-C Charging Cable   \n",
       "1 2019-04-07 22:30:00   176559       99.99  Bose SoundSport Headphones   \n",
       "2 2019-04-12 14:38:00   176560      600.00                Google Phone   \n",
       "3 2019-04-12 14:38:00   176560       11.99            Wired Headphones   \n",
       "4 2019-04-30 09:27:00   176561       11.99            Wired Headphones   \n",
       "\n",
       "                       Purchase Address  Quantity Ordered  Month   Sales  \\\n",
       "0          917 1st St, Dallas, TX 75001                 2      4   23.90   \n",
       "1     682 Chestnut St, Boston, MA 02215                 1      4   99.99   \n",
       "2  669 Spruce St, Los Angeles, CA 90001                 1      4  600.00   \n",
       "3  669 Spruce St, Los Angeles, CA 90001                 1      4   11.99   \n",
       "4     333 8th St, Los Angeles, CA 90001                 1      4   11.99   \n",
       "\n",
       "       City / State  Hour  Minute  Count  \n",
       "0        Dallas, TX     8      46      1  \n",
       "1        Boston, MA    22      30      1  \n",
       "2   Los Angeles, CA    14      38      1  \n",
       "3   Los Angeles, CA    14      38      1  \n",
       "4   Los Angeles, CA     9      27      1  "
      ]
     },
     "execution_count": 265,
     "metadata": {},
     "output_type": "execute_result"
    }
   ],
   "source": [
    "all_data.head()"
   ]
  },
  {
   "cell_type": "code",
   "execution_count": 272,
   "metadata": {},
   "outputs": [
    {
     "data": {
      "image/png": "[encoded data removed]",
      "text/plain": [
       "<Figure size 432x288 with 1 Axes>"
      ]
     },
     "metadata": {
      "needs_background": "light"
     },
     "output_type": "display_data"
    }
   ],
   "source": [
    "hours = [hour for hour, df in all_data.groupby('Hour')]\n",
    "plt.plot(hours, all_data.groupby('Hour').count())\n",
    "plt.xticks(hours)\n",
    "plt.grid()\n",
    "plt.xlabel('Hour')\n",
    "plt.ylabel('Number of Orders Placed')\n",
    "plt.show()\n",
    "# all_data.groupby('Hour').count()"
   ]
  },
  {
   "cell_type": "markdown",
   "metadata": {},
   "source": [
    "### Observation: 11 am and 7 pm people buy place the order the most.\n",
    "1. It would make more sense to advertise before and around 11 am and 7 pm"
   ]
  },
  {
   "cell_type": "markdown",
   "metadata": {},
   "source": [
    "### What product sold the most?"
   ]
  },
  {
   "cell_type": "code",
   "execution_count": 293,
   "metadata": {},
   "outputs": [],
   "source": [
    "# https://stackoverflow.com/questions/43348194/pandas-select-rows-if-id-appear-several-time\n",
    "df = all_data[all_data['Order ID'].duplicated(keep=False)]\n",
    "\n",
    "# Referenced: https://stackoverflow.com/questions/27298178/concatenate-strings-from-several-rows-using-pandas-groupby\n",
    "df['Grouped'] = df.groupby('Order ID')['Product'].transform(lambda x: ','.join(x))\n",
    "df2 = df[['Order ID', 'Grouped']].drop_duplicates()"
   ]
  },
  {
   "cell_type": "code",
   "execution_count": 294,
   "metadata": {},
   "outputs": [
    {
     "name": "stdout",
     "output_type": "stream",
     "text": [
      "('USB-C Charging Cable', 'USB-C Charging Cable') 24767457\n",
      "('Lightning Charging Cable', 'Lightning Charging Cable') 24191505\n",
      "('AAA Batteries (4-pack)', 'AAA Batteries (4-pack)') 21974394\n",
      "('AA Batteries (4-pack)', 'AA Batteries (4-pack)') 21806746\n",
      "('Wired Headphones', 'Wired Headphones') 21260538\n",
      "('Apple Airpods Headphones', 'Apple Airpods Headphones') 16945968\n",
      "('Bose SoundSport Headphones', 'Bose SoundSport Headphones') 14548872\n",
      "('iPhone', 'iPhone') 9003137\n",
      "('27in FHD Monitor', '27in FHD Monitor') 7953816\n",
      "('Google Phone', 'Google Phone') 7448844\n"
     ]
    }
   ],
   "source": [
    "# Referenced: https://stackoverflow.com/questions/52195887/counting-unique-pairs-of-numbers-into-a-python-dictionary\n",
    "# Example:\n",
    "# (from itertools import combinations\n",
    "# from collections import Counter\n",
    "\n",
    "# list3 = [[2, 3], [2, 3, 4]]\n",
    "\n",
    "# count = Counter()\n",
    "\n",
    "# for sublist in list3:\n",
    "#     count.update(Counter(combinations(sublist, 2)))\n",
    "\n",
    "# print(count))\n",
    "\n",
    "# Import libraries\n",
    "from itertools import combinations\n",
    "from collections import Counter\n",
    "\n",
    "count = Counter()\n",
    "\n",
    "for row in df['Grouped']:\n",
    "    row_list = row.split(',')\n",
    "    count.update(Counter(combinations(row_list, 2)))\n",
    "# print(count)\n",
    "    \n",
    "for key, values in count.most_common(10):\n",
    "    print(key, values)\n"
   ]
  },
  {
   "cell_type": "markdown",
   "metadata": {},
   "source": [
    "The business could group the Lightning Charging Cable with the iPhones to maximize the revenue, and the same with the other pairs"
   ]
  },
  {
   "cell_type": "markdown",
   "metadata": {},
   "source": [
    "### What product sold the most? Why do you think it sold the most"
   ]
  },
  {
   "cell_type": "code",
   "execution_count": 295,
   "metadata": {},
   "outputs": [
    {
     "data": {
      "text/html": [
       "<div>\n",
       "<style scoped>\n",
       "    .dataframe tbody tr th:only-of-type {\n",
       "        vertical-align: middle;\n",
       "    }\n",
       "\n",
       "    .dataframe tbody tr th {\n",
       "        vertical-align: top;\n",
       "    }\n",
       "\n",
       "    .dataframe thead th {\n",
       "        text-align: right;\n",
       "    }\n",
       "</style>\n",
       "<table border=\"1\" class=\"dataframe\">\n",
       "  <thead>\n",
       "    <tr style=\"text-align: right;\">\n",
       "      <th></th>\n",
       "      <th>Order Date</th>\n",
       "      <th>Order ID</th>\n",
       "      <th>Price Each</th>\n",
       "      <th>Product</th>\n",
       "      <th>Purchase Address</th>\n",
       "      <th>Quantity Ordered</th>\n",
       "      <th>Month</th>\n",
       "      <th>Sales</th>\n",
       "      <th>City / State</th>\n",
       "      <th>Hour</th>\n",
       "      <th>Minute</th>\n",
       "      <th>Count</th>\n",
       "    </tr>\n",
       "  </thead>\n",
       "  <tbody>\n",
       "    <tr>\n",
       "      <td>0</td>\n",
       "      <td>2019-04-19 08:46:00</td>\n",
       "      <td>176558</td>\n",
       "      <td>11.95</td>\n",
       "      <td>USB-C Charging Cable</td>\n",
       "      <td>917 1st St, Dallas, TX 75001</td>\n",
       "      <td>2</td>\n",
       "      <td>4</td>\n",
       "      <td>23.90</td>\n",
       "      <td>Dallas, TX</td>\n",
       "      <td>8</td>\n",
       "      <td>46</td>\n",
       "      <td>1</td>\n",
       "    </tr>\n",
       "    <tr>\n",
       "      <td>1</td>\n",
       "      <td>2019-04-07 22:30:00</td>\n",
       "      <td>176559</td>\n",
       "      <td>99.99</td>\n",
       "      <td>Bose SoundSport Headphones</td>\n",
       "      <td>682 Chestnut St, Boston, MA 02215</td>\n",
       "      <td>1</td>\n",
       "      <td>4</td>\n",
       "      <td>99.99</td>\n",
       "      <td>Boston, MA</td>\n",
       "      <td>22</td>\n",
       "      <td>30</td>\n",
       "      <td>1</td>\n",
       "    </tr>\n",
       "    <tr>\n",
       "      <td>2</td>\n",
       "      <td>2019-04-12 14:38:00</td>\n",
       "      <td>176560</td>\n",
       "      <td>600.00</td>\n",
       "      <td>Google Phone</td>\n",
       "      <td>669 Spruce St, Los Angeles, CA 90001</td>\n",
       "      <td>1</td>\n",
       "      <td>4</td>\n",
       "      <td>600.00</td>\n",
       "      <td>Los Angeles, CA</td>\n",
       "      <td>14</td>\n",
       "      <td>38</td>\n",
       "      <td>1</td>\n",
       "    </tr>\n",
       "    <tr>\n",
       "      <td>3</td>\n",
       "      <td>2019-04-12 14:38:00</td>\n",
       "      <td>176560</td>\n",
       "      <td>11.99</td>\n",
       "      <td>Wired Headphones</td>\n",
       "      <td>669 Spruce St, Los Angeles, CA 90001</td>\n",
       "      <td>1</td>\n",
       "      <td>4</td>\n",
       "      <td>11.99</td>\n",
       "      <td>Los Angeles, CA</td>\n",
       "      <td>14</td>\n",
       "      <td>38</td>\n",
       "      <td>1</td>\n",
       "    </tr>\n",
       "    <tr>\n",
       "      <td>4</td>\n",
       "      <td>2019-04-30 09:27:00</td>\n",
       "      <td>176561</td>\n",
       "      <td>11.99</td>\n",
       "      <td>Wired Headphones</td>\n",
       "      <td>333 8th St, Los Angeles, CA 90001</td>\n",
       "      <td>1</td>\n",
       "      <td>4</td>\n",
       "      <td>11.99</td>\n",
       "      <td>Los Angeles, CA</td>\n",
       "      <td>9</td>\n",
       "      <td>27</td>\n",
       "      <td>1</td>\n",
       "    </tr>\n",
       "  </tbody>\n",
       "</table>\n",
       "</div>"
      ],
      "text/plain": [
       "           Order Date Order ID  Price Each                     Product  \\\n",
       "0 2019-04-19 08:46:00   176558       11.95        USB-C Charging Cable   \n",
       "1 2019-04-07 22:30:00   176559       99.99  Bose SoundSport Headphones   \n",
       "2 2019-04-12 14:38:00   176560      600.00                Google Phone   \n",
       "3 2019-04-12 14:38:00   176560       11.99            Wired Headphones   \n",
       "4 2019-04-30 09:27:00   176561       11.99            Wired Headphones   \n",
       "\n",
       "                       Purchase Address  Quantity Ordered  Month   Sales  \\\n",
       "0          917 1st St, Dallas, TX 75001                 2      4   23.90   \n",
       "1     682 Chestnut St, Boston, MA 02215                 1      4   99.99   \n",
       "2  669 Spruce St, Los Angeles, CA 90001                 1      4  600.00   \n",
       "3  669 Spruce St, Los Angeles, CA 90001                 1      4   11.99   \n",
       "4     333 8th St, Los Angeles, CA 90001                 1      4   11.99   \n",
       "\n",
       "       City / State  Hour  Minute  Count  \n",
       "0        Dallas, TX     8      46      1  \n",
       "1        Boston, MA    22      30      1  \n",
       "2   Los Angeles, CA    14      38      1  \n",
       "3   Los Angeles, CA    14      38      1  \n",
       "4   Los Angeles, CA     9      27      1  "
      ]
     },
     "execution_count": 295,
     "metadata": {},
     "output_type": "execute_result"
    }
   ],
   "source": [
    "all_data.head()"
   ]
  },
  {
   "cell_type": "code",
   "execution_count": 296,
   "metadata": {},
   "outputs": [],
   "source": [
    "product_group = all_data.groupby('Product')\n",
    "quantity_ordered = product_group.sum()['Quantity Ordered']\n"
   ]
  },
  {
   "cell_type": "code",
   "execution_count": 299,
   "metadata": {},
   "outputs": [
    {
     "data": {
      "image/png": "[encoded data removed]",
      "text/plain": [
       "<Figure size 432x288 with 1 Axes>"
      ]
     },
     "metadata": {
      "needs_background": "light"
     },
     "output_type": "display_data"
    }
   ],
   "source": [
    "products = [product for product, df in product_group]\n",
    "plt.bar(products, quantity_ordered)\n",
    "plt.xticks(products, rotation = 'vertical', size = 8)\n",
    "plt.show()"
   ]
  },
  {
   "cell_type": "markdown",
   "metadata": {},
   "source": []
  },
  {
   "cell_type": "code",
   "execution_count": 301,
   "metadata": {},
   "outputs": [
    {
     "data": {
      "text/plain": [
       "Product\n",
       "20in Monitor                   109.99\n",
       "27in 4K Gaming Monitor         389.99\n",
       "27in FHD Monitor               149.99\n",
       "34in Ultrawide Monitor         379.99\n",
       "AA Batteries (4-pack)            3.84\n",
       "AAA Batteries (4-pack)           2.99\n",
       "Apple Airpods Headphones       150.00\n",
       "Bose SoundSport Headphones      99.99\n",
       "Flatscreen TV                  300.00\n",
       "Google Phone                   600.00\n",
       "LG Dryer                       600.00\n",
       "LG Washing Machine             600.00\n",
       "Lightning Charging Cable        14.95\n",
       "Macbook Pro Laptop            1700.00\n",
       "ThinkPad Laptop                999.99\n",
       "USB-C Charging Cable            11.95\n",
       "Vareebadd Phone                400.00\n",
       "Wired Headphones                11.99\n",
       "iPhone                         700.00\n",
       "Name: Price Each, dtype: float64"
      ]
     },
     "execution_count": 301,
     "metadata": {},
     "output_type": "execute_result"
    }
   ],
   "source": [
    "prices = all_data.groupby('Product').mean()['Price Each']\n",
    "prices"
   ]
  },
  {
   "cell_type": "code",
   "execution_count": 307,
   "metadata": {},
   "outputs": [
    {
     "data": {
      "image/png": "[encoded data removed]",
      "text/plain": [
       "<Figure size 432x288 with 2 Axes>"
      ]
     },
     "metadata": {
      "needs_background": "light"
     },
     "output_type": "display_data"
    }
   ],
   "source": [
    "# https://stackoverflow.com/questions/14762181/adding-a-y-axis-label-to-secondary-y-axis-in-matplotlib\n",
    "\n",
    "fig, ax1 = plt.subplots()\n",
    "\n",
    "ax2 = ax1.twinx()\n",
    "ax1.bar(products, quantity_ordered, color = 'g')\n",
    "ax2.plot(products, prices, 'b-')\n",
    "\n",
    "ax1.set_xlabel('Product Name')\n",
    "ax1.set_ylabel('Quantity Ordered', color='g')\n",
    "ax2.set_ylabel('Price', color='b')\n",
    "ax1.set_xticklabels(products, rotation = 'vertical')\n",
    "plt.show()"
   ]
  },
  {
   "cell_type": "markdown",
   "metadata": {},
   "source": [
    "Conclusions:\n",
    "1. From the chart above it shows that the cheaper product sold the most\n",
    "2. MacbookPro Labtop sold more than the washing machine even though the labtops are more expensive because of the more users (students, corporations, etc.)"
   ]
  }
 ],
 "metadata": {
  "kernelspec": {
   "display_name": "Python 3",
   "language": "python",
   "name": "python3"
  },
  "language_info": {
   "codemirror_mode": {
    "name": "ipython",
    "version": 3
   },
   "file_extension": ".py",
   "mimetype": "text/x-python",
   "name": "python",
   "nbconvert_exporter": "python",
   "pygments_lexer": "ipython3",
   "version": "3.7.4"
  }
 },
 "nbformat": 4,
 "nbformat_minor": 2
}
